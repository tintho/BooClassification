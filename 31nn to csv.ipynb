{
 "cells": [
  {
   "cell_type": "code",
   "execution_count": 1,
   "metadata": {
    "collapsed": false
   },
   "outputs": [
    {
     "name": "stdout",
     "output_type": "stream",
     "text": [
      "0\n",
      "1\n",
      "2\n",
      "3\n",
      "id                           0\n",
      "bone_length           0.354512\n",
      "rotting_flesh         0.350839\n",
      "hair_length           0.465761\n",
      "has_soul              0.781142\n",
      "color                    clear\n",
      "type                     Ghoul\n",
      "norm_bone             0.354512\n",
      "norm_rotting_flesh    0.376249\n",
      "norm_hair_length      0.465761\n",
      "norm_has_soul         0.834802\n",
      "Name: 0, dtype: object\n"
     ]
    },
    {
     "name": "stderr",
     "output_type": "stream",
     "text": [
      "C:\\Users\\Tony\\Anaconda3\\lib\\site-packages\\sklearn\\cross_validation.py:44: DeprecationWarning: This module was deprecated in version 0.18 in favor of the model_selection module into which all the refactored classes and functions are moved. Also note that the interface of the new CV iterators are different from that of this module. This module will be removed in 0.20.\n",
      "  \"This module will be removed in 0.20.\", DeprecationWarning)\n"
     ]
    },
    {
     "data": {
      "text/plain": [
       "0.83480159981537483"
      ]
     },
     "execution_count": 1,
     "metadata": {},
     "output_type": "execute_result"
    }
   ],
   "source": [
    "import pandas as pd\n",
    "import csv\n",
    "import math\n",
    "\n",
    "from sklearn.datasets import load_boston\n",
    "from sklearn.cross_validation import train_test_split\n",
    "from sklearn.preprocessing import scale\n",
    "from sklearn.neighbors import KNeighborsRegressor\n",
    "from sklearn.metrics import mean_squared_error\n",
    "from sklearn.cross_validation import KFold\n",
    "import matplotlib.pyplot as plt\n",
    "import numpy as np\n",
    "\n",
    "from collections import Counter\n",
    "\n",
    "trainData = pd.read_csv('train.csv')\n",
    "testData = pd.read_csv('test.csv')\n",
    "\n",
    "max_bone_length = trainData[\"bone_length\"].max()\n",
    "max_rotting_flesh = trainData[\"rotting_flesh\"].max()\n",
    "max_hair_length = trainData[\"hair_length\"].max()\n",
    "max_has_soul = trainData[\"has_soul\"].max()\n",
    "\n",
    "trainData[\"norm_bone\"] = trainData[\"bone_length\"] \n",
    "trainData[\"norm_rotting_flesh\"] = trainData[\"rotting_flesh\"] / max_rotting_flesh\n",
    "trainData[\"norm_hair_length\"] = trainData[\"hair_length\"] \n",
    "trainData[\"norm_has_soul\"] = trainData[\"has_soul\"] / max_has_soul\n",
    "\n",
    "\n",
    "trainData.iloc[0,10]\n",
    "for i in range(4):\n",
    "    print(i)\n",
    "    \n",
    "#testData #id, bone_length, rotting_flesh, hair_length, has_soul, color\n",
    "\n",
    "pow(trainData.iloc[0,7] - testData.iloc[0, 1], 2)\n",
    "trainData.iloc[0,7] - testData.iloc[0, 1]\n",
    "print(trainData.iloc[0])\n",
    "trainData.iloc[0,7]\n",
    "# for i in range(4):\n",
    "#     distance = distance + pow(trainData.iloc[z, 7+i] - testData.iloc[y, 1+i], 2)\n",
    "trainData.iloc[0, 10]"
   ]
  },
  {
   "cell_type": "code",
   "execution_count": null,
   "metadata": {
    "collapsed": true
   },
   "outputs": [],
   "source": []
  },
  {
   "cell_type": "code",
   "execution_count": null,
   "metadata": {
    "collapsed": true
   },
   "outputs": [],
   "source": []
  },
  {
   "cell_type": "code",
   "execution_count": null,
   "metadata": {
    "collapsed": true
   },
   "outputs": [],
   "source": []
  },
  {
   "cell_type": "code",
   "execution_count": null,
   "metadata": {
    "collapsed": true
   },
   "outputs": [],
   "source": []
  },
  {
   "cell_type": "code",
   "execution_count": null,
   "metadata": {
    "collapsed": true
   },
   "outputs": [],
   "source": []
  },
  {
   "cell_type": "code",
   "execution_count": null,
   "metadata": {
    "collapsed": true
   },
   "outputs": [],
   "source": []
  },
  {
   "cell_type": "code",
   "execution_count": null,
   "metadata": {
    "collapsed": true
   },
   "outputs": [],
   "source": []
  },
  {
   "cell_type": "code",
   "execution_count": null,
   "metadata": {
    "collapsed": true
   },
   "outputs": [],
   "source": []
  },
  {
   "cell_type": "code",
   "execution_count": null,
   "metadata": {
    "collapsed": true
   },
   "outputs": [],
   "source": []
  },
  {
   "cell_type": "code",
   "execution_count": null,
   "metadata": {
    "collapsed": true
   },
   "outputs": [],
   "source": []
  },
  {
   "cell_type": "code",
   "execution_count": null,
   "metadata": {
    "collapsed": true
   },
   "outputs": [],
   "source": []
  },
  {
   "cell_type": "code",
   "execution_count": null,
   "metadata": {
    "collapsed": true
   },
   "outputs": [],
   "source": []
  },
  {
   "cell_type": "code",
   "execution_count": 4,
   "metadata": {
    "collapsed": false
   },
   "outputs": [
    {
     "data": {
      "text/plain": [
       "371"
      ]
     },
     "execution_count": 4,
     "metadata": {},
     "output_type": "execute_result"
    }
   ],
   "source": [
    "trainData.shape[0]"
   ]
  },
  {
   "cell_type": "code",
   "execution_count": null,
   "metadata": {
    "collapsed": false
   },
   "outputs": [],
   "source": [
    "kNums2 = [31]\n",
    "for k in kNums2:\n",
    "    for y in range(testData.size):\n",
    "        results = {}\n",
    "        for z in range(trainData.size):\n",
    "            distance = 0\n",
    "            for i in range(4):\n",
    "                distance = distance + pow(trainData.iloc[z, 7+i] - testData.iloc[y, 1+i], 2)\n",
    "            distance = math.sqrt(distance)\n",
    "\n",
    "#                 if distance < maxD:\n",
    "#                     maxD = distance\n",
    "#                     index = z\n",
    "            results[distance] = z\n",
    "            if len(results) > k:\n",
    "                sortedResults = sorted(results.keys())\n",
    "                del results[sortedResults.pop()]\n",
    "        monsterList = []\n",
    "        for key in results.keys():\n",
    "            monsterList.append(trainData.iloc[results.get(key), 6])\n",
    "        sortedCount = Counter(monsterList).most_common(k)\n",
    "        if k == 1:\n",
    "#                 print(results)\n",
    "#                 print(monsterList)\n",
    "#                 print(sortedCount[0][0])\n",
    "#                 print(trainData.iloc[y, 6])\n",
    "            if sortedCount[0][0] is trainData.iloc[y, 6]:\n",
    "                pCorrect = pCorrect + 1\n",
    "            total = total + 1\n",
    "        else: \n",
    "            if len(Counter(monsterList).most_common(k)) == 1:\n",
    "                if sortedCount[0][0] is trainData.iloc[y, 6]:\n",
    "                    pCorrect = pCorrect + 1\n",
    "                total = total + 1\n",
    "            else: \n",
    "                while Counter(monsterList).most_common(k)[0][1] == Counter(monsterList).most_common(k)[1][1]:\n",
    "                    monsterList.pop()\n",
    "                    sortedCount = Counter(monsterList).most_common(k)\n",
    "                    if len(Counter(monsterList).most_common(k)) == 1:\n",
    "                        break\n",
    "                if sortedCount[0][0] is trainData.iloc[y, 6]:\n",
    "                    pCorrect = pCorrect + 1\n",
    "                total = total + 1\n",
    "#             print (trainData.iloc[index, 6])\n",
    "#             print (trainData.iloc[y, 6])\n",
    "#             print (str(index) + \" index is the closest\")\n",
    "#             print (str(y) + \" what we are comparing the closest thing to\")\n",
    "        print (str(pCorrect) + \" correct\")\n",
    "        print (str(total) + \" total\")\n",
    "        print (str(pCorrect / total) + \" percent correct\")\n",
    "        percentages.append(pCorrect / total)\n",
    "    kFoldPercentages2.append(percentages)\n",
    "print (kFoldPercentages2)\n"
   ]
  }
 ],
 "metadata": {
  "anaconda-cloud": {},
  "kernelspec": {
   "display_name": "Python [conda root]",
   "language": "python",
   "name": "conda-root-py"
  },
  "language_info": {
   "codemirror_mode": {
    "name": "ipython",
    "version": 3
   },
   "file_extension": ".py",
   "mimetype": "text/x-python",
   "name": "python",
   "nbconvert_exporter": "python",
   "pygments_lexer": "ipython3",
   "version": "3.5.2"
  }
 },
 "nbformat": 4,
 "nbformat_minor": 1
}
